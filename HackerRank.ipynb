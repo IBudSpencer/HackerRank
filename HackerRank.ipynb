{
 "cells": [
  {
   "cell_type": "markdown",
   "id": "89aaa350",
   "metadata": {},
   "source": [
    "#### Say 'Hello World' With Python"
   ]
  },
  {
   "cell_type": "code",
   "execution_count": 67,
   "id": "6a3707c1",
   "metadata": {},
   "outputs": [
    {
     "name": "stdout",
     "output_type": "stream",
     "text": [
      "Hello World\n"
     ]
    }
   ],
   "source": [
    "print('Hello World')"
   ]
  },
  {
   "cell_type": "markdown",
   "id": "b3368d5b",
   "metadata": {},
   "source": [
    "#### Python If-Else"
   ]
  },
  {
   "cell_type": "code",
   "execution_count": 68,
   "id": "d5258231",
   "metadata": {},
   "outputs": [
    {
     "name": "stdout",
     "output_type": "stream",
     "text": [
      "4\n",
      "Not Weird\n"
     ]
    }
   ],
   "source": [
    "import math\n",
    "import os\n",
    "import random\n",
    "import re\n",
    "import sys\n",
    "\n",
    "\n",
    "\n",
    "if __name__ == '__main__':\n",
    "    n = int(input().strip())\n",
    "\n",
    "    if n % 2 == 1: print('Weird')\n",
    "    elif n >= 2 and n <= 5: print('Not Weird')\n",
    "    elif n >= 6 and n <= 20: print('Weird')\n",
    "    elif n > 20: print('Not Weird')"
   ]
  },
  {
   "cell_type": "markdown",
   "id": "9d0ac942",
   "metadata": {},
   "source": [
    "#### Arithmetic Operators"
   ]
  },
  {
   "cell_type": "code",
   "execution_count": null,
   "id": "407cdb68",
   "metadata": {},
   "outputs": [],
   "source": [
    "if __name__ == '__main__':\n",
    "    a = int(input())\n",
    "    b = int(input())\n",
    "    \n",
    "    print(a+b)\n",
    "    print(a-b)\n",
    "    print(a*b)"
   ]
  },
  {
   "cell_type": "markdown",
   "id": "a69aa82e",
   "metadata": {},
   "source": [
    "#### Division"
   ]
  },
  {
   "cell_type": "code",
   "execution_count": null,
   "id": "d1d99d93",
   "metadata": {},
   "outputs": [],
   "source": [
    "if __name__ == '__main__':\n",
    "    a = int(input())\n",
    "    b = int(input())\n",
    "    \n",
    "    print(a//b)\n",
    "    print(a/b)\n"
   ]
  },
  {
   "cell_type": "markdown",
   "id": "230e4387",
   "metadata": {},
   "source": [
    "#### Loops"
   ]
  },
  {
   "cell_type": "code",
   "execution_count": 70,
   "id": "ef06544e",
   "metadata": {},
   "outputs": [
    {
     "name": "stdout",
     "output_type": "stream",
     "text": [
      "5\n",
      "0\n",
      "1\n",
      "4\n",
      "9\n",
      "16\n"
     ]
    }
   ],
   "source": [
    "if __name__ == '__main__':\n",
    "    n = int(input())\n",
    "    for i in range(n):\n",
    "        print(i*i)"
   ]
  },
  {
   "cell_type": "markdown",
   "id": "9314411c",
   "metadata": {},
   "source": [
    "#### Write a function"
   ]
  },
  {
   "cell_type": "code",
   "execution_count": null,
   "id": "30c8a48f",
   "metadata": {},
   "outputs": [],
   "source": [
    "def is_leap(year):\n",
    "    leap = False\n",
    "    \n",
    "    if year % 400 == 0: leap = True\n",
    "    elif year % 100 == 0: leap = False\n",
    "    elif year % 4 == 0: leap = True\n",
    "    \n",
    "    return leap\n",
    "\n",
    "year = int(input())"
   ]
  },
  {
   "cell_type": "markdown",
   "id": "32c71539",
   "metadata": {},
   "source": [
    "#### Print Function"
   ]
  },
  {
   "cell_type": "code",
   "execution_count": 20,
   "id": "f320b46e",
   "metadata": {},
   "outputs": [
    {
     "name": "stdout",
     "output_type": "stream",
     "text": [
      "3\n",
      "123\n"
     ]
    }
   ],
   "source": [
    "if __name__ == '__main__':\n",
    "    n = int(input())\n",
    "    x = ''\n",
    "    for i in range(1,n+1):\n",
    "\n",
    "        x = x + str(i)\n",
    "print(x)"
   ]
  },
  {
   "cell_type": "markdown",
   "id": "fa75e1fd",
   "metadata": {},
   "source": [
    "#### List Comprehension"
   ]
  },
  {
   "cell_type": "code",
   "execution_count": 83,
   "id": "8c66bc31",
   "metadata": {},
   "outputs": [
    {
     "name": "stdout",
     "output_type": "stream",
     "text": [
      "3\n",
      "3\n",
      "3\n",
      "2\n",
      "[[0, 0, 0], [0, 0, 1], [0, 0, 3], [0, 1, 0], [0, 1, 2], [0, 1, 3], [0, 2, 1], [0, 2, 2], [0, 2, 3], [0, 3, 0], [0, 3, 1], [0, 3, 2], [0, 3, 3], [1, 0, 0], [1, 0, 2], [1, 0, 3], [1, 1, 1], [1, 1, 2], [1, 1, 3], [1, 2, 0], [1, 2, 1], [1, 2, 2], [1, 2, 3], [1, 3, 0], [1, 3, 1], [1, 3, 2], [1, 3, 3], [2, 0, 1], [2, 0, 2], [2, 0, 3], [2, 1, 0], [2, 1, 1], [2, 1, 2], [2, 1, 3], [2, 2, 0], [2, 2, 1], [2, 2, 2], [2, 2, 3], [2, 3, 0], [2, 3, 1], [2, 3, 2], [2, 3, 3], [3, 0, 0], [3, 0, 1], [3, 0, 2], [3, 0, 3], [3, 1, 0], [3, 1, 1], [3, 1, 2], [3, 1, 3], [3, 2, 0], [3, 2, 1], [3, 2, 2], [3, 2, 3], [3, 3, 0], [3, 3, 1], [3, 3, 2], [3, 3, 3]]\n"
     ]
    }
   ],
   "source": [
    "if __name__ == '__main__':\n",
    "    x = int(input())\n",
    "    y = int(input())\n",
    "    z = int(input())\n",
    "    n = int(input())\n",
    "\n",
    "a=x+1\n",
    "b=y+1\n",
    "c=z+1\n",
    "d=n\n",
    "newlist = [[x,y,z] for x in range(a) for y in range(b) for z in range(c)]\n",
    "newlist2 = [x for x in newlist if sum(x)!=d]\n",
    "print(newlist2)"
   ]
  },
  {
   "cell_type": "markdown",
   "id": "42544adc",
   "metadata": {},
   "source": [
    "#### Find the Runner-Up Score"
   ]
  },
  {
   "cell_type": "code",
   "execution_count": 38,
   "id": "6c728dfe",
   "metadata": {},
   "outputs": [
    {
     "name": "stdout",
     "output_type": "stream",
     "text": [
      "4\n",
      "57 57 -57 57\n",
      "-57\n"
     ]
    }
   ],
   "source": [
    "if __name__ == '__main__':\n",
    "    n = int(input())\n",
    "    arr = map(int, input().split())\n",
    "    l = list(arr)\n",
    "\n",
    "    m = max(l)\n",
    "    x = min(l)\n",
    "    for i in range(n):\n",
    "        if l[i] > x and l[i] < m: x = l[i]\n",
    "    print(x)"
   ]
  },
  {
   "cell_type": "markdown",
   "id": "6a9b3a03",
   "metadata": {},
   "source": [
    "#### Nested Lists"
   ]
  },
  {
   "cell_type": "code",
   "execution_count": 66,
   "id": "76994ca5",
   "metadata": {},
   "outputs": [
    {
     "name": "stdout",
     "output_type": "stream",
     "text": [
      "5\n",
      "a\n",
      "1\n",
      "s\n",
      "2\n",
      "d\n",
      "2\n",
      "f\n",
      "3\n",
      "f\n",
      "4\n",
      "d\n",
      "s\n"
     ]
    }
   ],
   "source": [
    "if __name__ == '__main__':\n",
    "    nlist = []\n",
    "    for i in range(int(input())):\n",
    "        name = input()\n",
    "        score = float(input())\n",
    "        l = [name, score]\n",
    "        nlist.append(l)\n",
    "    \n",
    "     \n",
    "    y = [nlist[i][1] for i in range(len(nlist))]\n",
    "    z = min(y)\n",
    "    s = set(y)  # used to convert any of the list/tuple to the distinct element and sorted sequence of elements\n",
    "                # Note: above statement will convert list into sets \n",
    "    m = sorted(s)[1] \n",
    "\n",
    "    \n",
    "    names = []\n",
    "    \n",
    "    for i in range(len(nlist)):\n",
    "        if nlist[i][1] == m : names.append(nlist[i][0])\n",
    "\n",
    "    names2 = sorted(names)\n",
    "    for i in range(len(names2)):\n",
    "        print(names2[i])"
   ]
  },
  {
   "cell_type": "markdown",
   "id": "1082e57b",
   "metadata": {},
   "source": [
    "#### Lists"
   ]
  },
  {
   "cell_type": "code",
   "execution_count": null,
   "id": "80acc9e6",
   "metadata": {},
   "outputs": [],
   "source": []
  }
 ],
 "metadata": {
  "kernelspec": {
   "display_name": "Python 3 (ipykernel)",
   "language": "python",
   "name": "python3"
  },
  "language_info": {
   "codemirror_mode": {
    "name": "ipython",
    "version": 3
   },
   "file_extension": ".py",
   "mimetype": "text/x-python",
   "name": "python",
   "nbconvert_exporter": "python",
   "pygments_lexer": "ipython3",
   "version": "3.9.12"
  }
 },
 "nbformat": 4,
 "nbformat_minor": 5
}
